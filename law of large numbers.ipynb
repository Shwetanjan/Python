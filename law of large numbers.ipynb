{
 "cells": [
  {
   "cell_type": "code",
   "execution_count": 1,
   "metadata": {
    "collapsed": true
   },
   "outputs": [],
   "source": [
    "# Xn -> E(X)  when n -> infinity"
   ]
  },
  {
   "cell_type": "code",
   "execution_count": 2,
   "metadata": {
    "collapsed": true
   },
   "outputs": [],
   "source": [
    "# Script to test the Law of large number for N random normally\n",
    "#distributed numbers with mean =0 , std = 1\n",
    "#the script will count how many of these numbers fall between -1 and 1 and \n",
    "#divide by total quantity of N where E(X) = 68.2%\n",
    "#check for Mean (XN) ->E(X) evry time the script is rerun"
   ]
  },
  {
   "cell_type": "code",
   "execution_count": 5,
   "metadata": {
    "collapsed": true
   },
   "outputs": [],
   "source": [
    "import numpy as np\n",
    "from numpy.random import randn\n",
    "#from numpy.random import randint"
   ]
  },
  {
   "cell_type": "code",
   "execution_count": 14,
   "metadata": {},
   "outputs": [
    {
     "name": "stdout",
     "output_type": "stream",
     "text": [
      "going to next iteration at mean = 77.0\n",
      "going to next iteration at mean = 67.5\n",
      "going to next iteration at mean = 71.3\n",
      "going to next iteration at mean = 67.0\n",
      "going to next iteration at mean = 67.2\n",
      "going to next iteration at mean = 70.7\n",
      "going to next iteration at mean = 69.4\n",
      "going to next iteration at mean = 70.1\n",
      "going to next iteration at mean = 67.4\n",
      "going to next iteration at mean = 68.0\n",
      "going to next iteration at mean = 69.4\n",
      "going to next iteration at mean = 68.5\n",
      "going to next iteration at mean = 69.1\n",
      "going to next iteration at mean = 68.4\n",
      "going to next iteration at mean = 69.9\n",
      "going to next iteration at mean = 68.9\n",
      "going to next iteration at mean = 69.1\n",
      "going to next iteration at mean = 69.1\n",
      "going to next iteration at mean = 70.8\n",
      "going to next iteration at mean = 68.9\n",
      "going to next iteration at mean = 69.2\n",
      "going to next iteration at mean = 68.0\n",
      "going to next iteration at mean = 68.3\n",
      "going to next iteration at mean = 65.8\n",
      "going to next iteration at mean = 65.9\n",
      "going to next iteration at mean = 69.0\n",
      "going to next iteration at mean = 68.0\n",
      "going to next iteration at mean = 69.3\n",
      "going to next iteration at mean = 69.3\n",
      "going to next iteration at mean = 69.5\n",
      "Found a normal distribution of size N = 3100 \n",
      "and mean = 68.2 %\n"
     ]
    }
   ],
   "source": [
    "randArray = []\n",
    "N = 0\n",
    "Ex = 68.2\n",
    "mean = 0\n",
    "\n",
    "while mean != Ex:\n",
    "    N = N + 100\n",
    "    randArray = randn(N)\n",
    "    group = 0\n",
    "    \n",
    "    \n",
    "    for num in randArray:\n",
    "        if num >= -1 and num <= 1:\n",
    "            group = group +1\n",
    "    \n",
    "    mean = round((group/N)*100, 1)\n",
    "    if mean == Ex:\n",
    "        print (\"Found a normal distribution of size N =\",N,\"\\nand mean =\",mean,\"%\")   \n",
    "        break\n",
    "    else:\n",
    "        print (\"going to next iteration at mean =\",mean)\n",
    "        "
   ]
  },
  {
   "cell_type": "code",
   "execution_count": null,
   "metadata": {
    "collapsed": true
   },
   "outputs": [],
   "source": [
    "\n",
    "    "
   ]
  }
 ],
 "metadata": {
  "kernelspec": {
   "display_name": "Python 3",
   "language": "python",
   "name": "python3"
  },
  "language_info": {
   "codemirror_mode": {
    "name": "ipython",
    "version": 3
   },
   "file_extension": ".py",
   "mimetype": "text/x-python",
   "name": "python",
   "nbconvert_exporter": "python",
   "pygments_lexer": "ipython3",
   "version": "3.6.1"
  }
 },
 "nbformat": 4,
 "nbformat_minor": 2
}
